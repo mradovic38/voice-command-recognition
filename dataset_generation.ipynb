{
 "cells": [
  {
   "cell_type": "markdown",
   "metadata": {},
   "source": [
    "# Imports"
   ]
  },
  {
   "cell_type": "code",
   "execution_count": 43,
   "metadata": {},
   "outputs": [],
   "source": [
    "from dataset_generator import DatasetGenerator\n",
    "from utils import extract_all_chars, save_dict_as_json\n",
    "from data_preprocessor import Preprocessor\n",
    "\n",
    "import os\n",
    "import shutil\n",
    "import torch\n",
    "import pandas as pd\n",
    "from sklearn.model_selection import train_test_split\n",
    "from torch.utils.data import Dataset\n",
    "from transformers import (\n",
    "    Wav2Vec2CTCTokenizer, \n",
    "    Wav2Vec2FeatureExtractor,\n",
    "    Wav2Vec2Processor,\n",
    ")\n"
   ]
  },
  {
   "cell_type": "code",
   "execution_count": 44,
   "metadata": {},
   "outputs": [],
   "source": [
    "AUDIO_DIR = 'dataset'\n",
    "DATA_PATH = 'data.csv'\n",
    "\n",
    "word_character_map = {\n",
    "    'iskljuci': 'isključi',\n",
    "    'ukljuci': 'uključi'\n",
    "}\n",
    "\n",
    "OUT_DIR = 'torch_datasets'"
   ]
  },
  {
   "cell_type": "markdown",
   "metadata": {},
   "source": [
    "# Gather from folder"
   ]
  },
  {
   "cell_type": "code",
   "execution_count": 45,
   "metadata": {},
   "outputs": [
    {
     "name": "stdout",
     "output_type": "stream",
     "text": [
      "Dataset saved to data.csv\n"
     ]
    }
   ],
   "source": [
    "dg = DatasetGenerator(word_character_map)\n",
    "\n",
    "\n",
    "dg.generate(input_dir=AUDIO_DIR, output_file=DATA_PATH)"
   ]
  },
  {
   "cell_type": "code",
   "execution_count": 46,
   "metadata": {},
   "outputs": [
    {
     "data": {
      "text/html": [
       "<div>\n",
       "<style scoped>\n",
       "    .dataframe tbody tr th:only-of-type {\n",
       "        vertical-align: middle;\n",
       "    }\n",
       "\n",
       "    .dataframe tbody tr th {\n",
       "        vertical-align: top;\n",
       "    }\n",
       "\n",
       "    .dataframe thead th {\n",
       "        text-align: right;\n",
       "    }\n",
       "</style>\n",
       "<table border=\"1\" class=\"dataframe\">\n",
       "  <thead>\n",
       "    <tr style=\"text-align: right;\">\n",
       "      <th></th>\n",
       "      <th>audio_filepath</th>\n",
       "      <th>text</th>\n",
       "    </tr>\n",
       "  </thead>\n",
       "  <tbody>\n",
       "    <tr>\n",
       "      <th>0</th>\n",
       "      <td>dataset\\iskljuci-19-21-1.wav</td>\n",
       "      <td>isključi</td>\n",
       "    </tr>\n",
       "    <tr>\n",
       "      <th>1</th>\n",
       "      <td>dataset\\iskljuci-19-21-2.wav</td>\n",
       "      <td>isključi</td>\n",
       "    </tr>\n",
       "    <tr>\n",
       "      <th>2</th>\n",
       "      <td>dataset\\iskljuci-19-21-3.wav</td>\n",
       "      <td>isključi</td>\n",
       "    </tr>\n",
       "    <tr>\n",
       "      <th>3</th>\n",
       "      <td>dataset\\iskljuci-38-21-1.wav</td>\n",
       "      <td>isključi</td>\n",
       "    </tr>\n",
       "    <tr>\n",
       "      <th>4</th>\n",
       "      <td>dataset\\iskljuci-38-21-2.wav</td>\n",
       "      <td>isključi</td>\n",
       "    </tr>\n",
       "  </tbody>\n",
       "</table>\n",
       "</div>"
      ],
      "text/plain": [
       "                 audio_filepath      text\n",
       "0  dataset\\iskljuci-19-21-1.wav  isključi\n",
       "1  dataset\\iskljuci-19-21-2.wav  isključi\n",
       "2  dataset\\iskljuci-19-21-3.wav  isključi\n",
       "3  dataset\\iskljuci-38-21-1.wav  isključi\n",
       "4  dataset\\iskljuci-38-21-2.wav  isključi"
      ]
     },
     "execution_count": 46,
     "metadata": {},
     "output_type": "execute_result"
    }
   ],
   "source": [
    "df = pd.read_csv(DATA_PATH)\n",
    "df.head()"
   ]
  },
  {
   "cell_type": "markdown",
   "metadata": {},
   "source": [
    "# Create vocabulary"
   ]
  },
  {
   "cell_type": "code",
   "execution_count": 47,
   "metadata": {},
   "outputs": [],
   "source": [
    "VOCAB_PATH = 'vocab.json'"
   ]
  },
  {
   "cell_type": "code",
   "execution_count": 48,
   "metadata": {},
   "outputs": [
    {
     "data": {
      "text/plain": [
       "{'s': 0,\n",
       " 'č': 1,\n",
       " 'a': 2,\n",
       " 'l': 3,\n",
       " 'u': 4,\n",
       " 't': 5,\n",
       " 'k': 6,\n",
       " 'j': 7,\n",
       " 'v': 8,\n",
       " 'e': 9,\n",
       " 'o': 10,\n",
       " 'i': 11,\n",
       " 'r': 12,\n",
       " 'z': 13,\n",
       " '|': 14,\n",
       " '[UNK]': 15,\n",
       " '[PAD]': 16}"
      ]
     },
     "execution_count": 48,
     "metadata": {},
     "output_type": "execute_result"
    }
   ],
   "source": [
    "words = df['text'].unique()\n",
    "\n",
    "vocab_list = extract_all_chars(words)\n",
    "\n",
    "vocab_list.extend(['|', '[UNK]', '[PAD]'])\n",
    "vocab_dict = {v: k for k, v in enumerate(vocab_list)}\n",
    "vocab_dict"
   ]
  },
  {
   "cell_type": "code",
   "execution_count": 49,
   "metadata": {},
   "outputs": [],
   "source": [
    "save_dict_as_json(VOCAB_PATH, vocab_dict)"
   ]
  },
  {
   "cell_type": "markdown",
   "metadata": {},
   "source": [
    "# Loading the tokenizer, feature extractor and processor"
   ]
  },
  {
   "cell_type": "code",
   "execution_count": 50,
   "metadata": {},
   "outputs": [],
   "source": [
    "tokenizer = Wav2Vec2CTCTokenizer(\"./vocab.json\", unk_token=\"[UNK]\", pad_token=\"[PAD]\", word_delimiter_token=\"|\")"
   ]
  },
  {
   "cell_type": "code",
   "execution_count": 51,
   "metadata": {},
   "outputs": [],
   "source": [
    "feature_extractor = Wav2Vec2FeatureExtractor(feature_size=1, \n",
    "                                             sampling_rate=16000, \n",
    "                                             padding_value=0.0, \n",
    "                                             do_normalize=True, \n",
    "                                             return_attention_mask=True)"
   ]
  },
  {
   "cell_type": "code",
   "execution_count": 52,
   "metadata": {},
   "outputs": [],
   "source": [
    "processor = Wav2Vec2Processor(feature_extractor=feature_extractor, tokenizer=tokenizer)"
   ]
  },
  {
   "cell_type": "markdown",
   "metadata": {},
   "source": [
    "# Preprocessing"
   ]
  },
  {
   "cell_type": "code",
   "execution_count": 53,
   "metadata": {},
   "outputs": [
    {
     "data": {
      "text/html": [
       "<div>\n",
       "<style scoped>\n",
       "    .dataframe tbody tr th:only-of-type {\n",
       "        vertical-align: middle;\n",
       "    }\n",
       "\n",
       "    .dataframe tbody tr th {\n",
       "        vertical-align: top;\n",
       "    }\n",
       "\n",
       "    .dataframe thead th {\n",
       "        text-align: right;\n",
       "    }\n",
       "</style>\n",
       "<table border=\"1\" class=\"dataframe\">\n",
       "  <thead>\n",
       "    <tr style=\"text-align: right;\">\n",
       "      <th></th>\n",
       "      <th>audio_filepath</th>\n",
       "      <th>text</th>\n",
       "      <th>processed</th>\n",
       "    </tr>\n",
       "  </thead>\n",
       "  <tbody>\n",
       "    <tr>\n",
       "      <th>0</th>\n",
       "      <td>dataset\\iskljuci-19-21-1.wav</td>\n",
       "      <td>isključi</td>\n",
       "      <td>{'input_values': [tensor(0.1908), tensor(0.305...</td>\n",
       "    </tr>\n",
       "    <tr>\n",
       "      <th>1</th>\n",
       "      <td>dataset\\iskljuci-19-21-2.wav</td>\n",
       "      <td>isključi</td>\n",
       "      <td>{'input_values': [tensor(0.0942), tensor(0.229...</td>\n",
       "    </tr>\n",
       "    <tr>\n",
       "      <th>2</th>\n",
       "      <td>dataset\\iskljuci-19-21-3.wav</td>\n",
       "      <td>isključi</td>\n",
       "      <td>{'input_values': [tensor(0.2487), tensor(0.382...</td>\n",
       "    </tr>\n",
       "    <tr>\n",
       "      <th>3</th>\n",
       "      <td>dataset\\iskljuci-38-21-1.wav</td>\n",
       "      <td>isključi</td>\n",
       "      <td>{'input_values': [tensor(-0.0043), tensor(-0.0...</td>\n",
       "    </tr>\n",
       "    <tr>\n",
       "      <th>4</th>\n",
       "      <td>dataset\\iskljuci-38-21-2.wav</td>\n",
       "      <td>isključi</td>\n",
       "      <td>{'input_values': [tensor(-0.0048), tensor(-0.0...</td>\n",
       "    </tr>\n",
       "  </tbody>\n",
       "</table>\n",
       "</div>"
      ],
      "text/plain": [
       "                 audio_filepath      text  \\\n",
       "0  dataset\\iskljuci-19-21-1.wav  isključi   \n",
       "1  dataset\\iskljuci-19-21-2.wav  isključi   \n",
       "2  dataset\\iskljuci-19-21-3.wav  isključi   \n",
       "3  dataset\\iskljuci-38-21-1.wav  isključi   \n",
       "4  dataset\\iskljuci-38-21-2.wav  isključi   \n",
       "\n",
       "                                           processed  \n",
       "0  {'input_values': [tensor(0.1908), tensor(0.305...  \n",
       "1  {'input_values': [tensor(0.0942), tensor(0.229...  \n",
       "2  {'input_values': [tensor(0.2487), tensor(0.382...  \n",
       "3  {'input_values': [tensor(-0.0043), tensor(-0.0...  \n",
       "4  {'input_values': [tensor(-0.0048), tensor(-0.0...  "
      ]
     },
     "execution_count": 53,
     "metadata": {},
     "output_type": "execute_result"
    }
   ],
   "source": [
    "preprocessor = Preprocessor(processor=processor, sr=16000)\n",
    "\n",
    "df[\"processed\"] = df.apply(preprocessor.preprocess, axis=1)\n",
    "\n",
    "df.head()"
   ]
  },
  {
   "cell_type": "markdown",
   "metadata": {},
   "source": [
    "# Generate PyTorch dataset"
   ]
  },
  {
   "cell_type": "code",
   "execution_count": 54,
   "metadata": {},
   "outputs": [],
   "source": [
    "# Split dataset\n",
    "train_df, val_df = train_test_split(df, test_size=0.2, shuffle=True, random_state=42)\n",
    "\n",
    "# Create a PyTorch Dataset\n",
    "class AudioDataset(Dataset):\n",
    "    def __init__(self, dataframe):\n",
    "        self.data = dataframe\n",
    "\n",
    "    def __len__(self):\n",
    "        return len(self.data)\n",
    "\n",
    "    def __getitem__(self, idx):\n",
    "        processed = self.data.iloc[idx][\"processed\"]\n",
    "        return {\n",
    "            \"input_values\": processed[\"input_values\"],\n",
    "            \"labels\": processed[\"labels\"],\n",
    "        }\n",
    "\n",
    "# Prepare datasets\n",
    "train_dataset = AudioDataset(train_df)\n",
    "val_dataset = AudioDataset(val_df)"
   ]
  },
  {
   "cell_type": "markdown",
   "metadata": {},
   "source": [
    "## Save the dataset"
   ]
  },
  {
   "cell_type": "code",
   "execution_count": 55,
   "metadata": {},
   "outputs": [],
   "source": [
    "shutil.rmtree(OUT_DIR)\n",
    "os.mkdir(OUT_DIR)\n",
    "\n",
    "torch.save(train_dataset, 'torch_datasets/train.pt')\n",
    "torch.save(val_dataset, 'torch_datasets/val.pt')"
   ]
  }
 ],
 "metadata": {
  "kernelspec": {
   "display_name": ".venv",
   "language": "python",
   "name": "python3"
  },
  "language_info": {
   "codemirror_mode": {
    "name": "ipython",
    "version": 3
   },
   "file_extension": ".py",
   "mimetype": "text/x-python",
   "name": "python",
   "nbconvert_exporter": "python",
   "pygments_lexer": "ipython3",
   "version": "3.11.5"
  }
 },
 "nbformat": 4,
 "nbformat_minor": 2
}
