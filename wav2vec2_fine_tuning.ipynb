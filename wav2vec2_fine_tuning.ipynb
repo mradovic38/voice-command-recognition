{
 "cells": [
  {
   "cell_type": "markdown",
   "metadata": {
    "id": "LKJ_ajH5W8yO"
   },
   "source": [
    "# Imports"
   ]
  },
  {
   "cell_type": "code",
   "execution_count": 2,
   "metadata": {
    "executionInfo": {
     "elapsed": 50925,
     "status": "ok",
     "timestamp": 1734882322582,
     "user": {
      "displayName": "Mihailo Radovic",
      "userId": "01884334755596507994"
     },
     "user_tz": -60
    },
    "id": "wQS82V80W8yQ"
   },
   "outputs": [],
   "source": [
    "from dataset_generator import DatasetGenerator\n",
    "from utils import extract_all_chars, save_dict_as_json\n",
    "from data_preprocessor import Preprocessor\n",
    "from data_augmentation import AudioAugmentation\n",
    "from data_collator import DataCollatorCTCWithPadding\n",
    "\n",
    "import os\n",
    "import pandas as pd\n",
    "from sklearn.model_selection import train_test_split, KFold\n",
    "import torch\n",
    "from torch.utils.data import Dataset\n",
    "import evaluate\n",
    "from transformers import (\n",
    "    Wav2Vec2CTCTokenizer,\n",
    "    Wav2Vec2Processor,\n",
    "    Wav2Vec2FeatureExtractor,\n",
    "    Wav2Vec2ForCTC,\n",
    "    TrainingArguments,\n",
    "    Trainer\n",
    ")\n"
   ]
  },
  {
   "cell_type": "code",
   "execution_count": 3,
   "metadata": {
    "executionInfo": {
     "elapsed": 4,
     "status": "ok",
     "timestamp": 1734882322583,
     "user": {
      "displayName": "Mihailo Radovic",
      "userId": "01884334755596507994"
     },
     "user_tz": -60
    },
    "id": "0z93WBNcW8yR"
   },
   "outputs": [],
   "source": [
    "AUDIO_DIR = 'dataset'\n",
    "DATA_PATH = 'data.csv'\n",
    "\n",
    "word_character_map = {\n",
    "    'iskljuci': 'isključi',\n",
    "    'ukljuci': 'uključi'\n",
    "}\n",
    "\n",
    "TORCH_DATASETS_DIR = 'torch_datasets'\n",
    "\n",
    "MODEL_NAME = \"wav2vec2-finetuned-voice-commands\"\n",
    "MODELS_DIR = 'models'"
   ]
  },
  {
   "cell_type": "markdown",
   "metadata": {
    "id": "u-nc292GW8yS"
   },
   "source": [
    "# Gather from folder"
   ]
  },
  {
   "cell_type": "code",
   "execution_count": 12,
   "metadata": {
    "colab": {
     "base_uri": "https://localhost:8080/"
    },
    "executionInfo": {
     "elapsed": 846,
     "status": "ok",
     "timestamp": 1734875920321,
     "user": {
      "displayName": "Mihailo Radovic",
      "userId": "01884334755596507994"
     },
     "user_tz": -60
    },
    "id": "ws3DMAUjW8yS",
    "outputId": "2f82d600-de60-4924-d581-e64db997a6f4"
   },
   "outputs": [
    {
     "name": "stdout",
     "output_type": "stream",
     "text": [
      "Dataset saved to data.csv\n"
     ]
    }
   ],
   "source": [
    "dg = DatasetGenerator(word_character_map)\n",
    "\n",
    "\n",
    "dg.generate(input_dir=AUDIO_DIR, output_file=DATA_PATH)"
   ]
  },
  {
   "cell_type": "code",
   "execution_count": 13,
   "metadata": {
    "colab": {
     "base_uri": "https://localhost:8080/",
     "height": 206
    },
    "executionInfo": {
     "elapsed": 5,
     "status": "ok",
     "timestamp": 1734875920321,
     "user": {
      "displayName": "Mihailo Radovic",
      "userId": "01884334755596507994"
     },
     "user_tz": -60
    },
    "id": "ZyaadFVuW8yS",
    "outputId": "5f83d9e2-f72b-49e9-8248-08ac892d1b83"
   },
   "outputs": [
    {
     "data": {
      "application/vnd.google.colaboratory.intrinsic+json": {
       "summary": "{\n  \"name\": \"df\",\n  \"rows\": 42,\n  \"fields\": [\n    {\n      \"column\": \"audio_filepath\",\n      \"properties\": {\n        \"dtype\": \"string\",\n        \"num_unique_values\": 42,\n        \"samples\": [\n          \"dataset/ukljuci-38-21-1.wav\",\n          \"dataset/vrata-19-21-3.wav\",\n          \"dataset/zvuk-38-21-2.wav\"\n        ],\n        \"semantic_type\": \"\",\n        \"description\": \"\"\n      }\n    },\n    {\n      \"column\": \"text\",\n      \"properties\": {\n        \"dtype\": \"category\",\n        \"num_unique_values\": 7,\n        \"samples\": [\n          \"zatvori\",\n          \"zvuk\",\n          \"vrata\"\n        ],\n        \"semantic_type\": \"\",\n        \"description\": \"\"\n      }\n    }\n  ]\n}",
       "type": "dataframe",
       "variable_name": "df"
      },
      "text/html": [
       "\n",
       "  <div id=\"df-fe99c150-c247-447e-b477-88fab830d72b\" class=\"colab-df-container\">\n",
       "    <div>\n",
       "<style scoped>\n",
       "    .dataframe tbody tr th:only-of-type {\n",
       "        vertical-align: middle;\n",
       "    }\n",
       "\n",
       "    .dataframe tbody tr th {\n",
       "        vertical-align: top;\n",
       "    }\n",
       "\n",
       "    .dataframe thead th {\n",
       "        text-align: right;\n",
       "    }\n",
       "</style>\n",
       "<table border=\"1\" class=\"dataframe\">\n",
       "  <thead>\n",
       "    <tr style=\"text-align: right;\">\n",
       "      <th></th>\n",
       "      <th>audio_filepath</th>\n",
       "      <th>text</th>\n",
       "    </tr>\n",
       "  </thead>\n",
       "  <tbody>\n",
       "    <tr>\n",
       "      <th>0</th>\n",
       "      <td>dataset/zatvori-38-21-1.wav</td>\n",
       "      <td>zatvori</td>\n",
       "    </tr>\n",
       "    <tr>\n",
       "      <th>1</th>\n",
       "      <td>dataset/zvuk-19-21-3.wav</td>\n",
       "      <td>zvuk</td>\n",
       "    </tr>\n",
       "    <tr>\n",
       "      <th>2</th>\n",
       "      <td>dataset/zatvori-38-21-3.wav</td>\n",
       "      <td>zatvori</td>\n",
       "    </tr>\n",
       "    <tr>\n",
       "      <th>3</th>\n",
       "      <td>dataset/zatvori-19-21-3.wav</td>\n",
       "      <td>zatvori</td>\n",
       "    </tr>\n",
       "    <tr>\n",
       "      <th>4</th>\n",
       "      <td>dataset/zvuk-19-21-2.wav</td>\n",
       "      <td>zvuk</td>\n",
       "    </tr>\n",
       "  </tbody>\n",
       "</table>\n",
       "</div>\n",
       "    <div class=\"colab-df-buttons\">\n",
       "\n",
       "  <div class=\"colab-df-container\">\n",
       "    <button class=\"colab-df-convert\" onclick=\"convertToInteractive('df-fe99c150-c247-447e-b477-88fab830d72b')\"\n",
       "            title=\"Convert this dataframe to an interactive table.\"\n",
       "            style=\"display:none;\">\n",
       "\n",
       "  <svg xmlns=\"http://www.w3.org/2000/svg\" height=\"24px\" viewBox=\"0 -960 960 960\">\n",
       "    <path d=\"M120-120v-720h720v720H120Zm60-500h600v-160H180v160Zm220 220h160v-160H400v160Zm0 220h160v-160H400v160ZM180-400h160v-160H180v160Zm440 0h160v-160H620v160ZM180-180h160v-160H180v160Zm440 0h160v-160H620v160Z\"/>\n",
       "  </svg>\n",
       "    </button>\n",
       "\n",
       "  <style>\n",
       "    .colab-df-container {\n",
       "      display:flex;\n",
       "      gap: 12px;\n",
       "    }\n",
       "\n",
       "    .colab-df-convert {\n",
       "      background-color: #E8F0FE;\n",
       "      border: none;\n",
       "      border-radius: 50%;\n",
       "      cursor: pointer;\n",
       "      display: none;\n",
       "      fill: #1967D2;\n",
       "      height: 32px;\n",
       "      padding: 0 0 0 0;\n",
       "      width: 32px;\n",
       "    }\n",
       "\n",
       "    .colab-df-convert:hover {\n",
       "      background-color: #E2EBFA;\n",
       "      box-shadow: 0px 1px 2px rgba(60, 64, 67, 0.3), 0px 1px 3px 1px rgba(60, 64, 67, 0.15);\n",
       "      fill: #174EA6;\n",
       "    }\n",
       "\n",
       "    .colab-df-buttons div {\n",
       "      margin-bottom: 4px;\n",
       "    }\n",
       "\n",
       "    [theme=dark] .colab-df-convert {\n",
       "      background-color: #3B4455;\n",
       "      fill: #D2E3FC;\n",
       "    }\n",
       "\n",
       "    [theme=dark] .colab-df-convert:hover {\n",
       "      background-color: #434B5C;\n",
       "      box-shadow: 0px 1px 3px 1px rgba(0, 0, 0, 0.15);\n",
       "      filter: drop-shadow(0px 1px 2px rgba(0, 0, 0, 0.3));\n",
       "      fill: #FFFFFF;\n",
       "    }\n",
       "  </style>\n",
       "\n",
       "    <script>\n",
       "      const buttonEl =\n",
       "        document.querySelector('#df-fe99c150-c247-447e-b477-88fab830d72b button.colab-df-convert');\n",
       "      buttonEl.style.display =\n",
       "        google.colab.kernel.accessAllowed ? 'block' : 'none';\n",
       "\n",
       "      async function convertToInteractive(key) {\n",
       "        const element = document.querySelector('#df-fe99c150-c247-447e-b477-88fab830d72b');\n",
       "        const dataTable =\n",
       "          await google.colab.kernel.invokeFunction('convertToInteractive',\n",
       "                                                    [key], {});\n",
       "        if (!dataTable) return;\n",
       "\n",
       "        const docLinkHtml = 'Like what you see? Visit the ' +\n",
       "          '<a target=\"_blank\" href=https://colab.research.google.com/notebooks/data_table.ipynb>data table notebook</a>'\n",
       "          + ' to learn more about interactive tables.';\n",
       "        element.innerHTML = '';\n",
       "        dataTable['output_type'] = 'display_data';\n",
       "        await google.colab.output.renderOutput(dataTable, element);\n",
       "        const docLink = document.createElement('div');\n",
       "        docLink.innerHTML = docLinkHtml;\n",
       "        element.appendChild(docLink);\n",
       "      }\n",
       "    </script>\n",
       "  </div>\n",
       "\n",
       "\n",
       "<div id=\"df-4e8eac79-72dc-48c7-954e-436f5868f7c4\">\n",
       "  <button class=\"colab-df-quickchart\" onclick=\"quickchart('df-4e8eac79-72dc-48c7-954e-436f5868f7c4')\"\n",
       "            title=\"Suggest charts\"\n",
       "            style=\"display:none;\">\n",
       "\n",
       "<svg xmlns=\"http://www.w3.org/2000/svg\" height=\"24px\"viewBox=\"0 0 24 24\"\n",
       "     width=\"24px\">\n",
       "    <g>\n",
       "        <path d=\"M19 3H5c-1.1 0-2 .9-2 2v14c0 1.1.9 2 2 2h14c1.1 0 2-.9 2-2V5c0-1.1-.9-2-2-2zM9 17H7v-7h2v7zm4 0h-2V7h2v10zm4 0h-2v-4h2v4z\"/>\n",
       "    </g>\n",
       "</svg>\n",
       "  </button>\n",
       "\n",
       "<style>\n",
       "  .colab-df-quickchart {\n",
       "      --bg-color: #E8F0FE;\n",
       "      --fill-color: #1967D2;\n",
       "      --hover-bg-color: #E2EBFA;\n",
       "      --hover-fill-color: #174EA6;\n",
       "      --disabled-fill-color: #AAA;\n",
       "      --disabled-bg-color: #DDD;\n",
       "  }\n",
       "\n",
       "  [theme=dark] .colab-df-quickchart {\n",
       "      --bg-color: #3B4455;\n",
       "      --fill-color: #D2E3FC;\n",
       "      --hover-bg-color: #434B5C;\n",
       "      --hover-fill-color: #FFFFFF;\n",
       "      --disabled-bg-color: #3B4455;\n",
       "      --disabled-fill-color: #666;\n",
       "  }\n",
       "\n",
       "  .colab-df-quickchart {\n",
       "    background-color: var(--bg-color);\n",
       "    border: none;\n",
       "    border-radius: 50%;\n",
       "    cursor: pointer;\n",
       "    display: none;\n",
       "    fill: var(--fill-color);\n",
       "    height: 32px;\n",
       "    padding: 0;\n",
       "    width: 32px;\n",
       "  }\n",
       "\n",
       "  .colab-df-quickchart:hover {\n",
       "    background-color: var(--hover-bg-color);\n",
       "    box-shadow: 0 1px 2px rgba(60, 64, 67, 0.3), 0 1px 3px 1px rgba(60, 64, 67, 0.15);\n",
       "    fill: var(--button-hover-fill-color);\n",
       "  }\n",
       "\n",
       "  .colab-df-quickchart-complete:disabled,\n",
       "  .colab-df-quickchart-complete:disabled:hover {\n",
       "    background-color: var(--disabled-bg-color);\n",
       "    fill: var(--disabled-fill-color);\n",
       "    box-shadow: none;\n",
       "  }\n",
       "\n",
       "  .colab-df-spinner {\n",
       "    border: 2px solid var(--fill-color);\n",
       "    border-color: transparent;\n",
       "    border-bottom-color: var(--fill-color);\n",
       "    animation:\n",
       "      spin 1s steps(1) infinite;\n",
       "  }\n",
       "\n",
       "  @keyframes spin {\n",
       "    0% {\n",
       "      border-color: transparent;\n",
       "      border-bottom-color: var(--fill-color);\n",
       "      border-left-color: var(--fill-color);\n",
       "    }\n",
       "    20% {\n",
       "      border-color: transparent;\n",
       "      border-left-color: var(--fill-color);\n",
       "      border-top-color: var(--fill-color);\n",
       "    }\n",
       "    30% {\n",
       "      border-color: transparent;\n",
       "      border-left-color: var(--fill-color);\n",
       "      border-top-color: var(--fill-color);\n",
       "      border-right-color: var(--fill-color);\n",
       "    }\n",
       "    40% {\n",
       "      border-color: transparent;\n",
       "      border-right-color: var(--fill-color);\n",
       "      border-top-color: var(--fill-color);\n",
       "    }\n",
       "    60% {\n",
       "      border-color: transparent;\n",
       "      border-right-color: var(--fill-color);\n",
       "    }\n",
       "    80% {\n",
       "      border-color: transparent;\n",
       "      border-right-color: var(--fill-color);\n",
       "      border-bottom-color: var(--fill-color);\n",
       "    }\n",
       "    90% {\n",
       "      border-color: transparent;\n",
       "      border-bottom-color: var(--fill-color);\n",
       "    }\n",
       "  }\n",
       "</style>\n",
       "\n",
       "  <script>\n",
       "    async function quickchart(key) {\n",
       "      const quickchartButtonEl =\n",
       "        document.querySelector('#' + key + ' button');\n",
       "      quickchartButtonEl.disabled = true;  // To prevent multiple clicks.\n",
       "      quickchartButtonEl.classList.add('colab-df-spinner');\n",
       "      try {\n",
       "        const charts = await google.colab.kernel.invokeFunction(\n",
       "            'suggestCharts', [key], {});\n",
       "      } catch (error) {\n",
       "        console.error('Error during call to suggestCharts:', error);\n",
       "      }\n",
       "      quickchartButtonEl.classList.remove('colab-df-spinner');\n",
       "      quickchartButtonEl.classList.add('colab-df-quickchart-complete');\n",
       "    }\n",
       "    (() => {\n",
       "      let quickchartButtonEl =\n",
       "        document.querySelector('#df-4e8eac79-72dc-48c7-954e-436f5868f7c4 button');\n",
       "      quickchartButtonEl.style.display =\n",
       "        google.colab.kernel.accessAllowed ? 'block' : 'none';\n",
       "    })();\n",
       "  </script>\n",
       "</div>\n",
       "    </div>\n",
       "  </div>\n"
      ],
      "text/plain": [
       "                audio_filepath     text\n",
       "0  dataset/zatvori-38-21-1.wav  zatvori\n",
       "1     dataset/zvuk-19-21-3.wav     zvuk\n",
       "2  dataset/zatvori-38-21-3.wav  zatvori\n",
       "3  dataset/zatvori-19-21-3.wav  zatvori\n",
       "4     dataset/zvuk-19-21-2.wav     zvuk"
      ]
     },
     "execution_count": 13,
     "metadata": {},
     "output_type": "execute_result"
    }
   ],
   "source": [
    "df = pd.read_csv(DATA_PATH)\n",
    "df.head()"
   ]
  },
  {
   "cell_type": "markdown",
   "metadata": {
    "id": "Ey7xpv9TW8yT"
   },
   "source": [
    "# Create vocabulary"
   ]
  },
  {
   "cell_type": "code",
   "execution_count": 14,
   "metadata": {
    "executionInfo": {
     "elapsed": 4,
     "status": "ok",
     "timestamp": 1734875920321,
     "user": {
      "displayName": "Mihailo Radovic",
      "userId": "01884334755596507994"
     },
     "user_tz": -60
    },
    "id": "1ctZxHsUW8yT"
   },
   "outputs": [],
   "source": [
    "VOCAB_PATH = 'vocab.json'"
   ]
  },
  {
   "cell_type": "code",
   "execution_count": 15,
   "metadata": {
    "colab": {
     "base_uri": "https://localhost:8080/"
    },
    "executionInfo": {
     "elapsed": 4,
     "status": "ok",
     "timestamp": 1734875920321,
     "user": {
      "displayName": "Mihailo Radovic",
      "userId": "01884334755596507994"
     },
     "user_tz": -60
    },
    "id": "I24lDpzHW8yT",
    "outputId": "382ef63f-7b73-4183-96bd-53328a2608a9"
   },
   "outputs": [
    {
     "data": {
      "text/plain": [
       "{'j': 0,\n",
       " 'e': 1,\n",
       " 'u': 2,\n",
       " 'z': 3,\n",
       " 'č': 4,\n",
       " 's': 5,\n",
       " 't': 6,\n",
       " 'k': 7,\n",
       " 'v': 8,\n",
       " 'r': 9,\n",
       " 'l': 10,\n",
       " 'i': 11,\n",
       " 'o': 12,\n",
       " 'a': 13,\n",
       " '|': 14,\n",
       " '[UNK]': 15,\n",
       " '[PAD]': 16}"
      ]
     },
     "execution_count": 15,
     "metadata": {},
     "output_type": "execute_result"
    }
   ],
   "source": [
    "words = df['text'].unique()\n",
    "\n",
    "vocab_list = extract_all_chars(words)\n",
    "\n",
    "vocab_list.extend(['|', '[UNK]', '[PAD]'])\n",
    "vocab_dict = {v: k for k, v in enumerate(vocab_list)}\n",
    "vocab_dict"
   ]
  },
  {
   "cell_type": "code",
   "execution_count": 16,
   "metadata": {
    "executionInfo": {
     "elapsed": 846,
     "status": "ok",
     "timestamp": 1734875921164,
     "user": {
      "displayName": "Mihailo Radovic",
      "userId": "01884334755596507994"
     },
     "user_tz": -60
    },
    "id": "8i0WozqFW8yT"
   },
   "outputs": [],
   "source": [
    "save_dict_as_json(VOCAB_PATH, vocab_dict)"
   ]
  },
  {
   "cell_type": "markdown",
   "metadata": {
    "id": "VxZA0VmcW8yU"
   },
   "source": [
    "# Loading the tokenizer, feature extractor and processor"
   ]
  },
  {
   "cell_type": "code",
   "execution_count": 17,
   "metadata": {
    "executionInfo": {
     "elapsed": 4,
     "status": "ok",
     "timestamp": 1734875921165,
     "user": {
      "displayName": "Mihailo Radovic",
      "userId": "01884334755596507994"
     },
     "user_tz": -60
    },
    "id": "dyF8lCtaW8yU"
   },
   "outputs": [],
   "source": [
    "tokenizer = Wav2Vec2CTCTokenizer(\"./vocab.json\", unk_token=\"[UNK]\", pad_token=\"[PAD]\", word_delimiter_token=\"|\")"
   ]
  },
  {
   "cell_type": "code",
   "execution_count": 18,
   "metadata": {
    "executionInfo": {
     "elapsed": 3,
     "status": "ok",
     "timestamp": 1734875921165,
     "user": {
      "displayName": "Mihailo Radovic",
      "userId": "01884334755596507994"
     },
     "user_tz": -60
    },
    "id": "svxuKiVDW8yU"
   },
   "outputs": [],
   "source": [
    "feature_extractor = Wav2Vec2FeatureExtractor(feature_size=1,\n",
    "                                             sampling_rate=16000,\n",
    "                                             padding_value=0.0,\n",
    "                                             do_normalize=True,\n",
    "                                             return_attention_mask=True)"
   ]
  },
  {
   "cell_type": "code",
   "execution_count": 19,
   "metadata": {
    "executionInfo": {
     "elapsed": 3,
     "status": "ok",
     "timestamp": 1734875921165,
     "user": {
      "displayName": "Mihailo Radovic",
      "userId": "01884334755596507994"
     },
     "user_tz": -60
    },
    "id": "zHNsnS0AW8yU"
   },
   "outputs": [],
   "source": [
    "processor = Wav2Vec2Processor(feature_extractor=feature_extractor, tokenizer=tokenizer)"
   ]
  },
  {
   "cell_type": "markdown",
   "metadata": {
    "id": "W66sktZPW8yU"
   },
   "source": [
    "# Preprocessing and Augmentation"
   ]
  },
  {
   "cell_type": "code",
   "execution_count": 20,
   "metadata": {
    "executionInfo": {
     "elapsed": 3,
     "status": "ok",
     "timestamp": 1734875921165,
     "user": {
      "displayName": "Mihailo Radovic",
      "userId": "01884334755596507994"
     },
     "user_tz": -60
    },
    "id": "7cCS-tTZW8yU"
   },
   "outputs": [],
   "source": [
    "aug = AudioAugmentation(min_noise=0, max_noise=.005, time_stretch_rate=.9, pitch_shift_n_steps=2)\n",
    "\n",
    "train_preprocessor = Preprocessor(processor=processor, sr=16000, audio_augmentation=aug, augment_count=2)\n",
    "val_preprocessor = Preprocessor(processor=processor, sr=16000)"
   ]
  },
  {
   "cell_type": "code",
   "execution_count": 21,
   "metadata": {
    "colab": {
     "base_uri": "https://localhost:8080/",
     "height": 206
    },
    "executionInfo": {
     "elapsed": 53009,
     "status": "ok",
     "timestamp": 1734875974172,
     "user": {
      "displayName": "Mihailo Radovic",
      "userId": "01884334755596507994"
     },
     "user_tz": -60
    },
    "id": "SToic1xwW8yV",
    "outputId": "c8cb5a47-2efc-4e35-93cf-31d7eb1f42b5"
   },
   "outputs": [
    {
     "data": {
      "application/vnd.google.colaboratory.intrinsic+json": {
       "summary": "{\n  \"name\": \"train_df\",\n  \"rows\": 99,\n  \"fields\": [\n    {\n      \"column\": \"input_values\",\n      \"properties\": {\n        \"dtype\": \"string\",\n        \"num_unique_values\": 99,\n        \"samples\": [\n          \"tensor([ 0.5154,  0.8733,  0.0624,  ..., -0.0647,  0.3383, -0.4643])\",\n          \"tensor([ 0.0157, -0.0486,  0.0245,  ...,  0.0545,  0.0547,  0.0560])\",\n          \"tensor([ 0.1236, -0.3274, -0.0292,  ...,  0.0358,  0.0514, -0.0150])\"\n        ],\n        \"semantic_type\": \"\",\n        \"description\": \"\"\n      }\n    },\n    {\n      \"column\": \"labels\",\n      \"properties\": {\n        \"dtype\": \"string\",\n        \"num_unique_values\": 99,\n        \"samples\": [\n          \"tensor([ 3, 13,  6,  8, 12,  9, 11])\",\n          \"tensor([12,  6,  8, 12,  9, 11])\",\n          \"tensor([ 8,  9, 13,  6, 13])\"\n        ],\n        \"semantic_type\": \"\",\n        \"description\": \"\"\n      }\n    }\n  ]\n}",
       "type": "dataframe",
       "variable_name": "train_df"
      },
      "text/html": [
       "\n",
       "  <div id=\"df-6a6128c5-631b-4435-815c-effd8ee2e811\" class=\"colab-df-container\">\n",
       "    <div>\n",
       "<style scoped>\n",
       "    .dataframe tbody tr th:only-of-type {\n",
       "        vertical-align: middle;\n",
       "    }\n",
       "\n",
       "    .dataframe tbody tr th {\n",
       "        vertical-align: top;\n",
       "    }\n",
       "\n",
       "    .dataframe thead th {\n",
       "        text-align: right;\n",
       "    }\n",
       "</style>\n",
       "<table border=\"1\" class=\"dataframe\">\n",
       "  <thead>\n",
       "    <tr style=\"text-align: right;\">\n",
       "      <th></th>\n",
       "      <th>input_values</th>\n",
       "      <th>labels</th>\n",
       "    </tr>\n",
       "  </thead>\n",
       "  <tbody>\n",
       "    <tr>\n",
       "      <th>0</th>\n",
       "      <td>[tensor(-0.0017), tensor(-0.0017), tensor(-0.0...</td>\n",
       "      <td>[tensor(3), tensor(8), tensor(2), tensor(7)]</td>\n",
       "    </tr>\n",
       "    <tr>\n",
       "      <th>1</th>\n",
       "      <td>[tensor(-0.1495), tensor(-0.1662), tensor(0.02...</td>\n",
       "      <td>[tensor(3), tensor(8), tensor(2), tensor(7)]</td>\n",
       "    </tr>\n",
       "    <tr>\n",
       "      <th>2</th>\n",
       "      <td>[tensor(0.0037), tensor(0.1035), tensor(-0.038...</td>\n",
       "      <td>[tensor(3), tensor(8), tensor(2), tensor(7)]</td>\n",
       "    </tr>\n",
       "    <tr>\n",
       "      <th>3</th>\n",
       "      <td>[tensor(0.0942), tensor(0.2292), tensor(0.2020...</td>\n",
       "      <td>[tensor(11), tensor(5), tensor(7), tensor(10),...</td>\n",
       "    </tr>\n",
       "    <tr>\n",
       "      <th>4</th>\n",
       "      <td>[tensor(-0.7249), tensor(-0.0991), tensor(0.27...</td>\n",
       "      <td>[tensor(11), tensor(5), tensor(7), tensor(10),...</td>\n",
       "    </tr>\n",
       "  </tbody>\n",
       "</table>\n",
       "</div>\n",
       "    <div class=\"colab-df-buttons\">\n",
       "\n",
       "  <div class=\"colab-df-container\">\n",
       "    <button class=\"colab-df-convert\" onclick=\"convertToInteractive('df-6a6128c5-631b-4435-815c-effd8ee2e811')\"\n",
       "            title=\"Convert this dataframe to an interactive table.\"\n",
       "            style=\"display:none;\">\n",
       "\n",
       "  <svg xmlns=\"http://www.w3.org/2000/svg\" height=\"24px\" viewBox=\"0 -960 960 960\">\n",
       "    <path d=\"M120-120v-720h720v720H120Zm60-500h600v-160H180v160Zm220 220h160v-160H400v160Zm0 220h160v-160H400v160ZM180-400h160v-160H180v160Zm440 0h160v-160H620v160ZM180-180h160v-160H180v160Zm440 0h160v-160H620v160Z\"/>\n",
       "  </svg>\n",
       "    </button>\n",
       "\n",
       "  <style>\n",
       "    .colab-df-container {\n",
       "      display:flex;\n",
       "      gap: 12px;\n",
       "    }\n",
       "\n",
       "    .colab-df-convert {\n",
       "      background-color: #E8F0FE;\n",
       "      border: none;\n",
       "      border-radius: 50%;\n",
       "      cursor: pointer;\n",
       "      display: none;\n",
       "      fill: #1967D2;\n",
       "      height: 32px;\n",
       "      padding: 0 0 0 0;\n",
       "      width: 32px;\n",
       "    }\n",
       "\n",
       "    .colab-df-convert:hover {\n",
       "      background-color: #E2EBFA;\n",
       "      box-shadow: 0px 1px 2px rgba(60, 64, 67, 0.3), 0px 1px 3px 1px rgba(60, 64, 67, 0.15);\n",
       "      fill: #174EA6;\n",
       "    }\n",
       "\n",
       "    .colab-df-buttons div {\n",
       "      margin-bottom: 4px;\n",
       "    }\n",
       "\n",
       "    [theme=dark] .colab-df-convert {\n",
       "      background-color: #3B4455;\n",
       "      fill: #D2E3FC;\n",
       "    }\n",
       "\n",
       "    [theme=dark] .colab-df-convert:hover {\n",
       "      background-color: #434B5C;\n",
       "      box-shadow: 0px 1px 3px 1px rgba(0, 0, 0, 0.15);\n",
       "      filter: drop-shadow(0px 1px 2px rgba(0, 0, 0, 0.3));\n",
       "      fill: #FFFFFF;\n",
       "    }\n",
       "  </style>\n",
       "\n",
       "    <script>\n",
       "      const buttonEl =\n",
       "        document.querySelector('#df-6a6128c5-631b-4435-815c-effd8ee2e811 button.colab-df-convert');\n",
       "      buttonEl.style.display =\n",
       "        google.colab.kernel.accessAllowed ? 'block' : 'none';\n",
       "\n",
       "      async function convertToInteractive(key) {\n",
       "        const element = document.querySelector('#df-6a6128c5-631b-4435-815c-effd8ee2e811');\n",
       "        const dataTable =\n",
       "          await google.colab.kernel.invokeFunction('convertToInteractive',\n",
       "                                                    [key], {});\n",
       "        if (!dataTable) return;\n",
       "\n",
       "        const docLinkHtml = 'Like what you see? Visit the ' +\n",
       "          '<a target=\"_blank\" href=https://colab.research.google.com/notebooks/data_table.ipynb>data table notebook</a>'\n",
       "          + ' to learn more about interactive tables.';\n",
       "        element.innerHTML = '';\n",
       "        dataTable['output_type'] = 'display_data';\n",
       "        await google.colab.output.renderOutput(dataTable, element);\n",
       "        const docLink = document.createElement('div');\n",
       "        docLink.innerHTML = docLinkHtml;\n",
       "        element.appendChild(docLink);\n",
       "      }\n",
       "    </script>\n",
       "  </div>\n",
       "\n",
       "\n",
       "<div id=\"df-dc9cade2-d60a-4af3-a264-92297305be54\">\n",
       "  <button class=\"colab-df-quickchart\" onclick=\"quickchart('df-dc9cade2-d60a-4af3-a264-92297305be54')\"\n",
       "            title=\"Suggest charts\"\n",
       "            style=\"display:none;\">\n",
       "\n",
       "<svg xmlns=\"http://www.w3.org/2000/svg\" height=\"24px\"viewBox=\"0 0 24 24\"\n",
       "     width=\"24px\">\n",
       "    <g>\n",
       "        <path d=\"M19 3H5c-1.1 0-2 .9-2 2v14c0 1.1.9 2 2 2h14c1.1 0 2-.9 2-2V5c0-1.1-.9-2-2-2zM9 17H7v-7h2v7zm4 0h-2V7h2v10zm4 0h-2v-4h2v4z\"/>\n",
       "    </g>\n",
       "</svg>\n",
       "  </button>\n",
       "\n",
       "<style>\n",
       "  .colab-df-quickchart {\n",
       "      --bg-color: #E8F0FE;\n",
       "      --fill-color: #1967D2;\n",
       "      --hover-bg-color: #E2EBFA;\n",
       "      --hover-fill-color: #174EA6;\n",
       "      --disabled-fill-color: #AAA;\n",
       "      --disabled-bg-color: #DDD;\n",
       "  }\n",
       "\n",
       "  [theme=dark] .colab-df-quickchart {\n",
       "      --bg-color: #3B4455;\n",
       "      --fill-color: #D2E3FC;\n",
       "      --hover-bg-color: #434B5C;\n",
       "      --hover-fill-color: #FFFFFF;\n",
       "      --disabled-bg-color: #3B4455;\n",
       "      --disabled-fill-color: #666;\n",
       "  }\n",
       "\n",
       "  .colab-df-quickchart {\n",
       "    background-color: var(--bg-color);\n",
       "    border: none;\n",
       "    border-radius: 50%;\n",
       "    cursor: pointer;\n",
       "    display: none;\n",
       "    fill: var(--fill-color);\n",
       "    height: 32px;\n",
       "    padding: 0;\n",
       "    width: 32px;\n",
       "  }\n",
       "\n",
       "  .colab-df-quickchart:hover {\n",
       "    background-color: var(--hover-bg-color);\n",
       "    box-shadow: 0 1px 2px rgba(60, 64, 67, 0.3), 0 1px 3px 1px rgba(60, 64, 67, 0.15);\n",
       "    fill: var(--button-hover-fill-color);\n",
       "  }\n",
       "\n",
       "  .colab-df-quickchart-complete:disabled,\n",
       "  .colab-df-quickchart-complete:disabled:hover {\n",
       "    background-color: var(--disabled-bg-color);\n",
       "    fill: var(--disabled-fill-color);\n",
       "    box-shadow: none;\n",
       "  }\n",
       "\n",
       "  .colab-df-spinner {\n",
       "    border: 2px solid var(--fill-color);\n",
       "    border-color: transparent;\n",
       "    border-bottom-color: var(--fill-color);\n",
       "    animation:\n",
       "      spin 1s steps(1) infinite;\n",
       "  }\n",
       "\n",
       "  @keyframes spin {\n",
       "    0% {\n",
       "      border-color: transparent;\n",
       "      border-bottom-color: var(--fill-color);\n",
       "      border-left-color: var(--fill-color);\n",
       "    }\n",
       "    20% {\n",
       "      border-color: transparent;\n",
       "      border-left-color: var(--fill-color);\n",
       "      border-top-color: var(--fill-color);\n",
       "    }\n",
       "    30% {\n",
       "      border-color: transparent;\n",
       "      border-left-color: var(--fill-color);\n",
       "      border-top-color: var(--fill-color);\n",
       "      border-right-color: var(--fill-color);\n",
       "    }\n",
       "    40% {\n",
       "      border-color: transparent;\n",
       "      border-right-color: var(--fill-color);\n",
       "      border-top-color: var(--fill-color);\n",
       "    }\n",
       "    60% {\n",
       "      border-color: transparent;\n",
       "      border-right-color: var(--fill-color);\n",
       "    }\n",
       "    80% {\n",
       "      border-color: transparent;\n",
       "      border-right-color: var(--fill-color);\n",
       "      border-bottom-color: var(--fill-color);\n",
       "    }\n",
       "    90% {\n",
       "      border-color: transparent;\n",
       "      border-bottom-color: var(--fill-color);\n",
       "    }\n",
       "  }\n",
       "</style>\n",
       "\n",
       "  <script>\n",
       "    async function quickchart(key) {\n",
       "      const quickchartButtonEl =\n",
       "        document.querySelector('#' + key + ' button');\n",
       "      quickchartButtonEl.disabled = true;  // To prevent multiple clicks.\n",
       "      quickchartButtonEl.classList.add('colab-df-spinner');\n",
       "      try {\n",
       "        const charts = await google.colab.kernel.invokeFunction(\n",
       "            'suggestCharts', [key], {});\n",
       "      } catch (error) {\n",
       "        console.error('Error during call to suggestCharts:', error);\n",
       "      }\n",
       "      quickchartButtonEl.classList.remove('colab-df-spinner');\n",
       "      quickchartButtonEl.classList.add('colab-df-quickchart-complete');\n",
       "    }\n",
       "    (() => {\n",
       "      let quickchartButtonEl =\n",
       "        document.querySelector('#df-dc9cade2-d60a-4af3-a264-92297305be54 button');\n",
       "      quickchartButtonEl.style.display =\n",
       "        google.colab.kernel.accessAllowed ? 'block' : 'none';\n",
       "    })();\n",
       "  </script>\n",
       "</div>\n",
       "    </div>\n",
       "  </div>\n"
      ],
      "text/plain": [
       "                                        input_values  \\\n",
       "0  [tensor(-0.0017), tensor(-0.0017), tensor(-0.0...   \n",
       "1  [tensor(-0.1495), tensor(-0.1662), tensor(0.02...   \n",
       "2  [tensor(0.0037), tensor(0.1035), tensor(-0.038...   \n",
       "3  [tensor(0.0942), tensor(0.2292), tensor(0.2020...   \n",
       "4  [tensor(-0.7249), tensor(-0.0991), tensor(0.27...   \n",
       "\n",
       "                                              labels  \n",
       "0       [tensor(3), tensor(8), tensor(2), tensor(7)]  \n",
       "1       [tensor(3), tensor(8), tensor(2), tensor(7)]  \n",
       "2       [tensor(3), tensor(8), tensor(2), tensor(7)]  \n",
       "3  [tensor(11), tensor(5), tensor(7), tensor(10),...  \n",
       "4  [tensor(11), tensor(5), tensor(7), tensor(10),...  "
      ]
     },
     "execution_count": 21,
     "metadata": {},
     "output_type": "execute_result"
    }
   ],
   "source": [
    "# Split dataset into train and validation\n",
    "train_df, val_df = train_test_split(df, test_size=0.2, shuffle=True, random_state=42)\n",
    "\n",
    "# Preprocess data\n",
    "preprocessed_train_data = []\n",
    "preprocessed_val_data = []\n",
    "\n",
    "# Preprocess training data\n",
    "for _, row in train_df.iterrows():\n",
    "    preprocessed_train_data.extend(train_preprocessor.preprocess(row))\n",
    "\n",
    "# Preprocess validation data\n",
    "for _, row in val_df.iterrows():\n",
    "    preprocessed_val_data.extend(val_preprocessor.preprocess(row))\n",
    "\n",
    "# Create new dataframes for the preprocessed data\n",
    "train_df = pd.DataFrame(preprocessed_train_data)\n",
    "val_df = pd.DataFrame(preprocessed_val_data)\n",
    "\n",
    "train_df.head()"
   ]
  },
  {
   "cell_type": "markdown",
   "metadata": {
    "id": "JtEnPlIsW8yV"
   },
   "source": [
    "# Generate PyTorch dataset"
   ]
  },
  {
   "cell_type": "code",
   "execution_count": 22,
   "metadata": {
    "executionInfo": {
     "elapsed": 3,
     "status": "ok",
     "timestamp": 1734875974172,
     "user": {
      "displayName": "Mihailo Radovic",
      "userId": "01884334755596507994"
     },
     "user_tz": -60
    },
    "id": "QXSYuaUjW8yV"
   },
   "outputs": [],
   "source": [
    "# Create a PyTorch Dataset class\n",
    "class AudioDataset(Dataset):\n",
    "    def __init__(self, dataframe):\n",
    "        self.data = dataframe\n",
    "\n",
    "    def __len__(self):\n",
    "        return len(self.data)\n",
    "\n",
    "    def __getitem__(self, idx):\n",
    "        return {\n",
    "            \"input_values\": self.data.iloc[idx][\"input_values\"],\n",
    "            \"labels\": self.data.iloc[idx][\"labels\"],\n",
    "        }\n",
    "\n",
    "# Prepare datasets\n",
    "train_dataset = AudioDataset(train_df)\n",
    "val_dataset = AudioDataset(val_df)"
   ]
  },
  {
   "cell_type": "markdown",
   "metadata": {
    "id": "gP44O4uKW8yV"
   },
   "source": [
    "## Save the dataset"
   ]
  },
  {
   "cell_type": "code",
   "execution_count": 23,
   "metadata": {
    "executionInfo": {
     "elapsed": 2,
     "status": "ok",
     "timestamp": 1734875974172,
     "user": {
      "displayName": "Mihailo Radovic",
      "userId": "01884334755596507994"
     },
     "user_tz": -60
    },
    "id": "W_n655bhW8yV"
   },
   "outputs": [],
   "source": [
    "if not os.path.exists(TORCH_DATASETS_DIR):\n",
    "    os.mkdir(TORCH_DATASETS_DIR)\n",
    "\n",
    "torch.save(train_dataset, os.path.join(TORCH_DATASETS_DIR, 'train.pt'))\n",
    "torch.save(val_dataset, os.path.join(TORCH_DATASETS_DIR, 'val.pt'))"
   ]
  },
  {
   "cell_type": "markdown",
   "metadata": {
    "id": "jC4dX-voW8yV"
   },
   "source": [
    "# Loading the model"
   ]
  },
  {
   "cell_type": "code",
   "execution_count": 24,
   "metadata": {
    "colab": {
     "base_uri": "https://localhost:8080/"
    },
    "executionInfo": {
     "elapsed": 3396,
     "status": "ok",
     "timestamp": 1734875977566,
     "user": {
      "displayName": "Mihailo Radovic",
      "userId": "01884334755596507994"
     },
     "user_tz": -60
    },
    "id": "-C_RVikKW8yV",
    "outputId": "31f7c586-7af0-4e90-d5e6-da48d0a0fdf2"
   },
   "outputs": [
    {
     "name": "stderr",
     "output_type": "stream",
     "text": [
      "Some weights of Wav2Vec2ForCTC were not initialized from the model checkpoint at facebook/wav2vec2-large-xlsr-53 and are newly initialized: ['lm_head.bias', 'lm_head.weight']\n",
      "You should probably TRAIN this model on a down-stream task to be able to use it for predictions and inference.\n"
     ]
    }
   ],
   "source": [
    "model = Wav2Vec2ForCTC.from_pretrained(\n",
    "    \"facebook/wav2vec2-large-xlsr-53\",\n",
    "    attention_dropout=0.2,\n",
    "    hidden_dropout=0.2,\n",
    "    feat_proj_dropout=0.05,\n",
    "    mask_time_prob=0.04,\n",
    "    layerdrop=0.15,\n",
    "    ctc_loss_reduction=\"mean\",\n",
    "    pad_token_id=processor.tokenizer.pad_token_id,\n",
    "    vocab_size=len(processor.tokenizer)\n",
    ")\n",
    "\n",
    "model.config.vocab_size = len(processor.tokenizer)\n",
    "\n",
    "model.freeze_feature_encoder()\n",
    "model.gradient_checkpointing_enable()"
   ]
  },
  {
   "cell_type": "markdown",
   "metadata": {
    "id": "c1Isq6w6W8yV"
   },
   "source": [
    "# Training"
   ]
  },
  {
   "cell_type": "code",
   "execution_count": 25,
   "metadata": {
    "executionInfo": {
     "elapsed": 4,
     "status": "ok",
     "timestamp": 1734875977566,
     "user": {
      "displayName": "Mihailo Radovic",
      "userId": "01884334755596507994"
     },
     "user_tz": -60
    },
    "id": "UTLY_FWFW8yV"
   },
   "outputs": [],
   "source": [
    "data_collator = DataCollatorCTCWithPadding(processor=processor, padding=True)"
   ]
  },
  {
   "cell_type": "code",
   "execution_count": 26,
   "metadata": {
    "executionInfo": {
     "elapsed": 3,
     "status": "ok",
     "timestamp": 1734875977566,
     "user": {
      "displayName": "Mihailo Radovic",
      "userId": "01884334755596507994"
     },
     "user_tz": -60
    },
    "id": "oh7PMBk8W8yW"
   },
   "outputs": [],
   "source": [
    "if not os.path.exists(MODELS_DIR):\n",
    "    os.mkdir(MODELS_DIR)\n",
    "\n",
    "model_out_dir = os.path.join(MODELS_DIR, MODEL_NAME)\n",
    "if not os.path.exists(model_out_dir):\n",
    "    os.mkdir(model_out_dir)\n",
    "\n",
    "logs_dir = os.path.join(MODELS_DIR, MODEL_NAME, 'logs')\n",
    "if not os.path.exists(logs_dir):\n",
    "    os.mkdir(logs_dir)\n",
    "\n",
    "training_args = TrainingArguments(\n",
    "    output_dir=model_out_dir,                               # Directory to save model checkpoints\n",
    "    overwrite_output_dir=True,\n",
    "    eval_strategy=\"steps\",                                  # Evaluate every N steps\n",
    "    per_device_train_batch_size=8,                          # Batch size for training\n",
    "    per_device_eval_batch_size=8,                           # Batch size for evaluation\n",
    "    gradient_accumulation_steps=2,                          # Gradient accumulation\n",
    "    learning_rate=3e-4,                                     # Learning rate\n",
    "    warmup_steps=500,                                       # Warmup steps for LR scheduler\n",
    "    num_train_epochs=200,                                   # Number of epochs\n",
    "    logging_dir=logs_dir,                                   # Directory for logging\n",
    "    logging_steps=10,                                       # Log every N steps\n",
    "    save_steps=50,                                          # Save checkpoint every N steps\n",
    "    eval_steps=50,\n",
    "    save_total_limit=2,                                     # Only keep the last 2 checkpoints\n",
    "    fp16=True,                                              # Use mixed precision\n",
    "    dataloader_num_workers=2,                               # Number of workers for DataLoader\n",
    "    load_best_model_at_end=True,                            # Load the best model at the end\n",
    "    metric_for_best_model=\"wer\",                            # Metric to determine best model\n",
    "    greater_is_better=False,                                # Smaller WER is better\n",
    "    save_safetensors=False,\n",
    "    seed=42,                                                # Random seed for reproducibility\n",
    ")\n"
   ]
  },
  {
   "cell_type": "code",
   "execution_count": 27,
   "metadata": {
    "executionInfo": {
     "elapsed": 1546,
     "status": "ok",
     "timestamp": 1734875979109,
     "user": {
      "displayName": "Mihailo Radovic",
      "userId": "01884334755596507994"
     },
     "user_tz": -60
    },
    "id": "6RUeiukaW8yW"
   },
   "outputs": [],
   "source": [
    "# Define WER metric\n",
    "wer_metric = evaluate.load(\"wer\")\n",
    "\n",
    "def compute_metrics(pred):\n",
    "    pred_logits = pred.predictions\n",
    "    pred_ids = torch.argmax(torch.tensor(pred_logits), dim=-1)\n",
    "\n",
    "    # Decode predictions and labels\n",
    "    pred_str = processor.batch_decode(pred_ids, skip_special_tokens=True)\n",
    "    label_str = processor.batch_decode(pred.label_ids, skip_special_tokens=True)\n",
    "\n",
    "    # Compute WER\n",
    "    wer = wer_metric.compute(predictions=pred_str, references=label_str)\n",
    "    return {\"wer\": wer}\n"
   ]
  },
  {
   "cell_type": "code",
   "execution_count": 28,
   "metadata": {
    "executionInfo": {
     "elapsed": 8520,
     "status": "ok",
     "timestamp": 1734875987628,
     "user": {
      "displayName": "Mihailo Radovic",
      "userId": "01884334755596507994"
     },
     "user_tz": -60
    },
    "id": "XDp3vV9QW8yW"
   },
   "outputs": [],
   "source": [
    "# Initialize Trainer\n",
    "trainer = Trainer(\n",
    "    model=model,                               # Wav2Vec2 model\n",
    "    data_collator=data_collator,               # Data Collator\n",
    "    args=training_args,                        # Training arguments\n",
    "    train_dataset=train_dataset,               # Training dataset\n",
    "    eval_dataset=val_dataset,                  # Validation dataset\n",
    "    processing_class=processor,                # Processor\n",
    "    compute_metrics=compute_metrics,           # WER metric\n",
    ")"
   ]
  },
  {
   "cell_type": "code",
   "execution_count": 29,
   "metadata": {
    "colab": {
     "base_uri": "https://localhost:8080/",
     "height": 1000
    },
    "executionInfo": {
     "elapsed": 1579005,
     "status": "ok",
     "timestamp": 1734877567159,
     "user": {
      "displayName": "Mihailo Radovic",
      "userId": "01884334755596507994"
     },
     "user_tz": -60
    },
    "id": "06xXPN-7W8yW",
    "outputId": "1330235d-5fe9-4f2c-bdef-1fe7e7c71140"
   },
   "outputs": [
    {
     "name": "stderr",
     "output_type": "stream",
     "text": [
      "\u001b[34m\u001b[1mwandb\u001b[0m: \u001b[33mWARNING\u001b[0m The `run_name` is currently set to the same value as `TrainingArguments.output_dir`. If this was not intended, please specify a different run name by setting the `TrainingArguments.run_name` parameter.\n",
      "\u001b[34m\u001b[1mwandb\u001b[0m: Using wandb-core as the SDK backend.  Please refer to https://wandb.me/wandb-core for more information.\n",
      "\u001b[34m\u001b[1mwandb\u001b[0m: Currently logged in as: \u001b[33mmihailo-radovic11\u001b[0m (\u001b[33mmihailo-radovic11-student\u001b[0m). Use \u001b[1m`wandb login --relogin`\u001b[0m to force relogin\n"
     ]
    },
    {
     "data": {
      "text/html": [
       "Tracking run with wandb version 0.19.1"
      ],
      "text/plain": [
       "<IPython.core.display.HTML object>"
      ]
     },
     "metadata": {},
     "output_type": "display_data"
    },
    {
     "data": {
      "text/html": [
       "Run data is saved locally in <code>/content/drive/MyDrive/voice_command_recognition/wandb/run-20241222_135949-je37bbdw</code>"
      ],
      "text/plain": [
       "<IPython.core.display.HTML object>"
      ]
     },
     "metadata": {},
     "output_type": "display_data"
    },
    {
     "data": {
      "text/html": [
       "Syncing run <strong><a href='https://wandb.ai/mihailo-radovic11-student/huggingface/runs/je37bbdw' target=\"_blank\">models/wav2vec2-finetuned-voice-commands</a></strong> to <a href='https://wandb.ai/mihailo-radovic11-student/huggingface' target=\"_blank\">Weights & Biases</a> (<a href='https://wandb.me/developer-guide' target=\"_blank\">docs</a>)<br>"
      ],
      "text/plain": [
       "<IPython.core.display.HTML object>"
      ]
     },
     "metadata": {},
     "output_type": "display_data"
    },
    {
     "data": {
      "text/html": [
       " View project at <a href='https://wandb.ai/mihailo-radovic11-student/huggingface' target=\"_blank\">https://wandb.ai/mihailo-radovic11-student/huggingface</a>"
      ],
      "text/plain": [
       "<IPython.core.display.HTML object>"
      ]
     },
     "metadata": {},
     "output_type": "display_data"
    },
    {
     "data": {
      "text/html": [
       " View run at <a href='https://wandb.ai/mihailo-radovic11-student/huggingface/runs/je37bbdw' target=\"_blank\">https://wandb.ai/mihailo-radovic11-student/huggingface/runs/je37bbdw</a>"
      ],
      "text/plain": [
       "<IPython.core.display.HTML object>"
      ]
     },
     "metadata": {},
     "output_type": "display_data"
    },
    {
     "data": {
      "text/html": [
       "\n",
       "    <div>\n",
       "      \n",
       "      <progress value='1200' max='1200' style='width:300px; height:20px; vertical-align: middle;'></progress>\n",
       "      [1200/1200 26:09, Epoch 171/200]\n",
       "    </div>\n",
       "    <table border=\"1\" class=\"dataframe\">\n",
       "  <thead>\n",
       " <tr style=\"text-align: left;\">\n",
       "      <th>Step</th>\n",
       "      <th>Training Loss</th>\n",
       "      <th>Validation Loss</th>\n",
       "      <th>Wer</th>\n",
       "    </tr>\n",
       "  </thead>\n",
       "  <tbody>\n",
       "    <tr>\n",
       "      <td>50</td>\n",
       "      <td>34.786200</td>\n",
       "      <td>19.011425</td>\n",
       "      <td>1.000000</td>\n",
       "    </tr>\n",
       "    <tr>\n",
       "      <td>100</td>\n",
       "      <td>12.488200</td>\n",
       "      <td>3.884096</td>\n",
       "      <td>1.000000</td>\n",
       "    </tr>\n",
       "    <tr>\n",
       "      <td>150</td>\n",
       "      <td>5.675000</td>\n",
       "      <td>3.041412</td>\n",
       "      <td>1.000000</td>\n",
       "    </tr>\n",
       "    <tr>\n",
       "      <td>200</td>\n",
       "      <td>5.497000</td>\n",
       "      <td>2.966755</td>\n",
       "      <td>1.000000</td>\n",
       "    </tr>\n",
       "    <tr>\n",
       "      <td>250</td>\n",
       "      <td>5.403800</td>\n",
       "      <td>3.003995</td>\n",
       "      <td>1.000000</td>\n",
       "    </tr>\n",
       "    <tr>\n",
       "      <td>300</td>\n",
       "      <td>4.882900</td>\n",
       "      <td>2.615735</td>\n",
       "      <td>1.000000</td>\n",
       "    </tr>\n",
       "    <tr>\n",
       "      <td>350</td>\n",
       "      <td>4.365000</td>\n",
       "      <td>2.407569</td>\n",
       "      <td>1.000000</td>\n",
       "    </tr>\n",
       "    <tr>\n",
       "      <td>400</td>\n",
       "      <td>3.830200</td>\n",
       "      <td>1.990558</td>\n",
       "      <td>1.000000</td>\n",
       "    </tr>\n",
       "    <tr>\n",
       "      <td>450</td>\n",
       "      <td>3.215600</td>\n",
       "      <td>1.654664</td>\n",
       "      <td>1.000000</td>\n",
       "    </tr>\n",
       "    <tr>\n",
       "      <td>500</td>\n",
       "      <td>2.612400</td>\n",
       "      <td>0.771460</td>\n",
       "      <td>0.666667</td>\n",
       "    </tr>\n",
       "    <tr>\n",
       "      <td>550</td>\n",
       "      <td>1.537400</td>\n",
       "      <td>0.389464</td>\n",
       "      <td>0.555556</td>\n",
       "    </tr>\n",
       "    <tr>\n",
       "      <td>600</td>\n",
       "      <td>1.081200</td>\n",
       "      <td>0.216142</td>\n",
       "      <td>0.555556</td>\n",
       "    </tr>\n",
       "    <tr>\n",
       "      <td>650</td>\n",
       "      <td>1.186700</td>\n",
       "      <td>0.252124</td>\n",
       "      <td>0.666667</td>\n",
       "    </tr>\n",
       "    <tr>\n",
       "      <td>700</td>\n",
       "      <td>0.714100</td>\n",
       "      <td>0.111854</td>\n",
       "      <td>0.111111</td>\n",
       "    </tr>\n",
       "    <tr>\n",
       "      <td>750</td>\n",
       "      <td>0.513400</td>\n",
       "      <td>0.044511</td>\n",
       "      <td>0.111111</td>\n",
       "    </tr>\n",
       "    <tr>\n",
       "      <td>800</td>\n",
       "      <td>0.690000</td>\n",
       "      <td>0.063655</td>\n",
       "      <td>0.222222</td>\n",
       "    </tr>\n",
       "    <tr>\n",
       "      <td>850</td>\n",
       "      <td>0.334800</td>\n",
       "      <td>0.029825</td>\n",
       "      <td>0.111111</td>\n",
       "    </tr>\n",
       "    <tr>\n",
       "      <td>900</td>\n",
       "      <td>0.380400</td>\n",
       "      <td>0.014079</td>\n",
       "      <td>0.111111</td>\n",
       "    </tr>\n",
       "    <tr>\n",
       "      <td>950</td>\n",
       "      <td>0.346000</td>\n",
       "      <td>0.059444</td>\n",
       "      <td>0.222222</td>\n",
       "    </tr>\n",
       "    <tr>\n",
       "      <td>1000</td>\n",
       "      <td>0.310800</td>\n",
       "      <td>0.013446</td>\n",
       "      <td>0.111111</td>\n",
       "    </tr>\n",
       "    <tr>\n",
       "      <td>1050</td>\n",
       "      <td>0.241000</td>\n",
       "      <td>0.005384</td>\n",
       "      <td>0.111111</td>\n",
       "    </tr>\n",
       "    <tr>\n",
       "      <td>1100</td>\n",
       "      <td>0.144200</td>\n",
       "      <td>0.005648</td>\n",
       "      <td>0.111111</td>\n",
       "    </tr>\n",
       "    <tr>\n",
       "      <td>1150</td>\n",
       "      <td>0.363200</td>\n",
       "      <td>0.004117</td>\n",
       "      <td>0.111111</td>\n",
       "    </tr>\n",
       "    <tr>\n",
       "      <td>1200</td>\n",
       "      <td>0.241700</td>\n",
       "      <td>0.003884</td>\n",
       "      <td>0.111111</td>\n",
       "    </tr>\n",
       "  </tbody>\n",
       "</table><p>"
      ],
      "text/plain": [
       "<IPython.core.display.HTML object>"
      ]
     },
     "metadata": {},
     "output_type": "display_data"
    },
    {
     "data": {
      "text/plain": [
       "TrainOutput(global_step=1200, training_loss=4.505651850004991, metrics={'train_runtime': 1578.9943, 'train_samples_per_second': 12.54, 'train_steps_per_second': 0.76, 'total_flos': 7.602603206275048e+17, 'train_loss': 4.505651850004991, 'epoch': 171.46153846153845})"
      ]
     },
     "execution_count": 29,
     "metadata": {},
     "output_type": "execute_result"
    }
   ],
   "source": [
    "# Start training\n",
    "trainer.train()"
   ]
  },
  {
   "cell_type": "code",
   "execution_count": 30,
   "metadata": {
    "colab": {
     "base_uri": "https://localhost:8080/",
     "height": 74
    },
    "executionInfo": {
     "elapsed": 1522,
     "status": "ok",
     "timestamp": 1734877706800,
     "user": {
      "displayName": "Mihailo Radovic",
      "userId": "01884334755596507994"
     },
     "user_tz": -60
    },
    "id": "sNe8YgLrw3ET",
    "outputId": "4d1ad82c-3f09-4b81-88c2-1ac57a325289"
   },
   "outputs": [
    {
     "data": {
      "text/html": [
       "\n",
       "    <div>\n",
       "      \n",
       "      <progress value='2' max='2' style='width:300px; height:20px; vertical-align: middle;'></progress>\n",
       "      [2/2 00:00]\n",
       "    </div>\n",
       "    "
      ],
      "text/plain": [
       "<IPython.core.display.HTML object>"
      ]
     },
     "metadata": {},
     "output_type": "display_data"
    },
    {
     "name": "stdout",
     "output_type": "stream",
     "text": [
      "{'eval_loss': 0.11185392737388611, 'eval_wer': 0.1111111111111111, 'eval_runtime': 0.6562, 'eval_samples_per_second': 13.716, 'eval_steps_per_second': 3.048, 'epoch': 171.46153846153845}\n"
     ]
    }
   ],
   "source": [
    "final_metrics = trainer.evaluate(val_dataset)\n",
    "print(final_metrics)"
   ]
  },
  {
   "cell_type": "code",
   "execution_count": 51,
   "metadata": {
    "colab": {
     "base_uri": "https://localhost:8080/"
    },
    "executionInfo": {
     "elapsed": 12452,
     "status": "ok",
     "timestamp": 1734878444967,
     "user": {
      "displayName": "Mihailo Radovic",
      "userId": "01884334755596507994"
     },
     "user_tz": -60
    },
    "id": "Rwn2dDY6z5UN",
    "outputId": "466e6c10-45bf-41d7-e2a4-f0a88af5b398"
   },
   "outputs": [
    {
     "data": {
      "text/plain": [
       "[]"
      ]
     },
     "execution_count": 51,
     "metadata": {},
     "output_type": "execute_result"
    }
   ],
   "source": [
    "model.save_pretrained(f\"{MODELS_DIR}/best_model\")\n",
    "processor.save_pretrained(f\"{MODELS_DIR}/best_model_processor\")"
   ]
  }
 ],
 "metadata": {
  "accelerator": "GPU",
  "colab": {
   "collapsed_sections": [
    "Ey7xpv9TW8yT",
    "VxZA0VmcW8yU",
    "JtEnPlIsW8yV"
   ],
   "gpuType": "T4",
   "provenance": []
  },
  "kernelspec": {
   "display_name": "Python 3",
   "name": "python3"
  },
  "language_info": {
   "codemirror_mode": {
    "name": "ipython",
    "version": 3
   },
   "file_extension": ".py",
   "mimetype": "text/x-python",
   "name": "python",
   "nbconvert_exporter": "python",
   "pygments_lexer": "ipython3",
   "version": "3.11.5"
  }
 },
 "nbformat": 4,
 "nbformat_minor": 0
}
